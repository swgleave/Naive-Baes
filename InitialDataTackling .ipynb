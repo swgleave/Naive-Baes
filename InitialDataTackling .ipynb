{
 "cells": [
  {
   "cell_type": "code",
   "execution_count": 5,
   "metadata": {},
   "outputs": [],
   "source": [
    "import pandas as pd\n",
    "from gensim.models.fasttext import FastText"
   ]
  },
  {
   "cell_type": "markdown",
   "metadata": {},
   "source": [
    "Reading in training data\n"
   ]
  },
  {
   "cell_type": "code",
   "execution_count": 6,
   "metadata": {},
   "outputs": [
    {
     "data": {
      "text/html": [
       "<div>\n",
       "<style scoped>\n",
       "    .dataframe tbody tr th:only-of-type {\n",
       "        vertical-align: middle;\n",
       "    }\n",
       "\n",
       "    .dataframe tbody tr th {\n",
       "        vertical-align: top;\n",
       "    }\n",
       "\n",
       "    .dataframe thead th {\n",
       "        text-align: right;\n",
       "    }\n",
       "</style>\n",
       "<table border=\"1\" class=\"dataframe\">\n",
       "  <thead>\n",
       "    <tr style=\"text-align: right;\">\n",
       "      <th></th>\n",
       "      <th>id</th>\n",
       "      <th>idx</th>\n",
       "      <th>tweet</th>\n",
       "      <th>category</th>\n",
       "      <th>subcategory</th>\n",
       "      <th>target_num</th>\n",
       "    </tr>\n",
       "  </thead>\n",
       "  <tbody>\n",
       "    <tr>\n",
       "      <th>0</th>\n",
       "      <td>98221616</td>\n",
       "      <td>4976</td>\n",
       "      <td>$ARNA APD334 for Amyotrophic Lateral Sclerosis...</td>\n",
       "      <td>Product Number</td>\n",
       "      <td>Product Number</td>\n",
       "      <td>334</td>\n",
       "    </tr>\n",
       "    <tr>\n",
       "      <th>1</th>\n",
       "      <td>82321187</td>\n",
       "      <td>9839</td>\n",
       "      <td>$OCLR Noob investor that i am, put a 7.38 stop...</td>\n",
       "      <td>Monetary</td>\n",
       "      <td>stop loss</td>\n",
       "      <td>7.38</td>\n",
       "    </tr>\n",
       "    <tr>\n",
       "      <th>2</th>\n",
       "      <td>103328840</td>\n",
       "      <td>1455</td>\n",
       "      <td>$ES_F $SPY Bias-2 bearish and the DLT-1 DRR ar...</td>\n",
       "      <td>Product Number</td>\n",
       "      <td>Product Number</td>\n",
       "      <td>1</td>\n",
       "    </tr>\n",
       "    <tr>\n",
       "      <th>3</th>\n",
       "      <td>104840294</td>\n",
       "      <td>1111</td>\n",
       "      <td>$TMUS its acquisition of Layer3 TV The purchas...</td>\n",
       "      <td>Product Number</td>\n",
       "      <td>Product Number</td>\n",
       "      <td>5</td>\n",
       "    </tr>\n",
       "    <tr>\n",
       "      <th>4</th>\n",
       "      <td>69935467</td>\n",
       "      <td>2373</td>\n",
       "      <td>$TWTR ^Buy  $WSTL 68c up 14%  4 time avg vol. ...</td>\n",
       "      <td>Percentage</td>\n",
       "      <td>relative</td>\n",
       "      <td>14</td>\n",
       "    </tr>\n",
       "    <tr>\n",
       "      <th>5</th>\n",
       "      <td>69935467</td>\n",
       "      <td>2373</td>\n",
       "      <td>$TWTR ^Buy  $WSTL 68c up 14%  4 time avg vol. ...</td>\n",
       "      <td>Quantity</td>\n",
       "      <td>Quantity</td>\n",
       "      <td>4</td>\n",
       "    </tr>\n",
       "    <tr>\n",
       "      <th>6</th>\n",
       "      <td>69935467</td>\n",
       "      <td>2373</td>\n",
       "      <td>$TWTR ^Buy  $WSTL 68c up 14%  4 time avg vol. ...</td>\n",
       "      <td>Monetary</td>\n",
       "      <td>forecast</td>\n",
       "      <td>5</td>\n",
       "    </tr>\n",
       "    <tr>\n",
       "      <th>7</th>\n",
       "      <td>94249158</td>\n",
       "      <td>1372</td>\n",
       "      <td>$SEED L2 Capital deal is real savvy. It takes ...</td>\n",
       "      <td>Temporal</td>\n",
       "      <td>date</td>\n",
       "      <td>33</td>\n",
       "    </tr>\n",
       "    <tr>\n",
       "      <th>8</th>\n",
       "      <td>100979260</td>\n",
       "      <td>505</td>\n",
       "      <td>$BTE $BTE.CA $MEG.CA $CPG $CPG.CA $CJ.CA - 4th...</td>\n",
       "      <td>Temporal</td>\n",
       "      <td>date</td>\n",
       "      <td>4</td>\n",
       "    </tr>\n",
       "    <tr>\n",
       "      <th>9</th>\n",
       "      <td>100775772</td>\n",
       "      <td>1210</td>\n",
       "      <td>$WRN My fav $WRN pattern on my watchlist for 1...</td>\n",
       "      <td>Temporal</td>\n",
       "      <td>date</td>\n",
       "      <td>11</td>\n",
       "    </tr>\n",
       "  </tbody>\n",
       "</table>\n",
       "</div>"
      ],
      "text/plain": [
       "          id   idx                                              tweet  \\\n",
       "0   98221616  4976  $ARNA APD334 for Amyotrophic Lateral Sclerosis...   \n",
       "1   82321187  9839  $OCLR Noob investor that i am, put a 7.38 stop...   \n",
       "2  103328840  1455  $ES_F $SPY Bias-2 bearish and the DLT-1 DRR ar...   \n",
       "3  104840294  1111  $TMUS its acquisition of Layer3 TV The purchas...   \n",
       "4   69935467  2373  $TWTR ^Buy  $WSTL 68c up 14%  4 time avg vol. ...   \n",
       "5   69935467  2373  $TWTR ^Buy  $WSTL 68c up 14%  4 time avg vol. ...   \n",
       "6   69935467  2373  $TWTR ^Buy  $WSTL 68c up 14%  4 time avg vol. ...   \n",
       "7   94249158  1372  $SEED L2 Capital deal is real savvy. It takes ...   \n",
       "8  100979260   505  $BTE $BTE.CA $MEG.CA $CPG $CPG.CA $CJ.CA - 4th...   \n",
       "9  100775772  1210  $WRN My fav $WRN pattern on my watchlist for 1...   \n",
       "\n",
       "         category     subcategory target_num  \n",
       "0  Product Number  Product Number        334  \n",
       "1        Monetary       stop loss       7.38  \n",
       "2  Product Number  Product Number          1  \n",
       "3  Product Number  Product Number          5  \n",
       "4      Percentage        relative         14  \n",
       "5        Quantity        Quantity          4  \n",
       "6        Monetary        forecast          5  \n",
       "7        Temporal            date         33  \n",
       "8        Temporal            date          4  \n",
       "9        Temporal            date         11  "
      ]
     },
     "execution_count": 6,
     "metadata": {},
     "output_type": "execute_result"
    }
   ],
   "source": [
    "df = pd.read_csv(r'finnum\\train.csv')\n",
    "df.head(10)"
   ]
  },
  {
   "cell_type": "markdown",
   "metadata": {},
   "source": [
    "Make new column for encoding categories as numbers"
   ]
  },
  {
   "cell_type": "code",
   "execution_count": 7,
   "metadata": {},
   "outputs": [],
   "source": [
    "df['cat_num'] = df['category'].astype('category').cat.codes"
   ]
  },
  {
   "cell_type": "markdown",
   "metadata": {},
   "source": [
    "Loading in fastText model"
   ]
  },
  {
   "cell_type": "code",
   "execution_count": 8,
   "metadata": {},
   "outputs": [],
   "source": [
    "model = FastText.load('fastText1')"
   ]
  },
  {
   "cell_type": "markdown",
   "metadata": {},
   "source": [
    "Preprocessing tweets by lowercasing"
   ]
  },
  {
   "cell_type": "code",
   "execution_count": 9,
   "metadata": {},
   "outputs": [],
   "source": [
    "df['lower'] = [x.lower() for x in df.tweet]"
   ]
  },
  {
   "cell_type": "code",
   "execution_count": 10,
   "metadata": {},
   "outputs": [
    {
     "data": {
      "text/plain": [
       "0    $arna apd334 for amyotrophic lateral sclerosis...\n",
       "1    $oclr noob investor that i am, put a 7.38 stop...\n",
       "2    $es_f $spy bias-2 bearish and the dlt-1 drr ar...\n",
       "3    $tmus its acquisition of layer3 tv the purchas...\n",
       "4    $twtr ^buy  $wstl 68c up 14%  4 time avg vol. ...\n",
       "Name: lower, dtype: object"
      ]
     },
     "execution_count": 10,
     "metadata": {},
     "output_type": "execute_result"
    }
   ],
   "source": [
    "df['lower'].head()"
   ]
  },
  {
   "cell_type": "markdown",
   "metadata": {},
   "source": [
    "Replacing target with <num\\>"
   ]
  },
  {
   "cell_type": "code",
   "execution_count": 11,
   "metadata": {
    "scrolled": true
   },
   "outputs": [],
   "source": [
    "import re\n",
    "def flagNum(x):\n",
    "    text = x.lower\n",
    "    outNum = str(x.target_num)\n",
    "    text_out = re.sub(r'(?<=\\D)'+outNum+'(?=\\D)', ' <num> ', text)\n",
    "    #text_out = text.replace('\\D('+outNum+')\\D', ' <num> ')\n",
    "    return text_out"
   ]
  },
  {
   "cell_type": "markdown",
   "metadata": {},
   "source": [
    "Applying to training, making this into a new column"
   ]
  },
  {
   "cell_type": "code",
   "execution_count": 12,
   "metadata": {},
   "outputs": [],
   "source": [
    "df['mod'] = df.apply(lambda x: flagNum(x), axis = 1)"
   ]
  },
  {
   "cell_type": "code",
   "execution_count": 13,
   "metadata": {},
   "outputs": [
    {
     "data": {
      "text/plain": [
       "0    $arna apd <num>  for amyotrophic lateral scler...\n",
       "1    $oclr noob investor that i am, put a  <num>  s...\n",
       "2    $es_f $spy bias-2 bearish and the dlt- <num>  ...\n",
       "3    $tmus its acquisition of layer3 tv the purchas...\n",
       "4    $twtr ^buy  $wstl 68c up  <num> %  4 time avg ...\n",
       "Name: mod, dtype: object"
      ]
     },
     "execution_count": 13,
     "metadata": {},
     "output_type": "execute_result"
    }
   ],
   "source": [
    "df['mod'].head()"
   ]
  },
  {
   "cell_type": "code",
   "execution_count": 14,
   "metadata": {},
   "outputs": [
    {
     "data": {
      "text/plain": [
       "0    $arna apd334 for amyotrophic lateral sclerosis...\n",
       "1    $oclr noob investor that i am, put a 7.38 stop...\n",
       "2    $es_f $spy bias-2 bearish and the dlt-1 drr ar...\n",
       "3    $tmus its acquisition of layer3 tv the purchas...\n",
       "4    $twtr ^buy  $wstl 68c up 14%  4 time avg vol. ...\n",
       "Name: lower, dtype: object"
      ]
     },
     "execution_count": 14,
     "metadata": {},
     "output_type": "execute_result"
    }
   ],
   "source": [
    "df.lower.head()"
   ]
  },
  {
   "cell_type": "markdown",
   "metadata": {},
   "source": [
    "Filtering out numbers and words less than 3 characters long"
   ]
  },
  {
   "cell_type": "code",
   "execution_count": 15,
   "metadata": {},
   "outputs": [],
   "source": [
    "import string\n",
    "def textPuncandNum(text):\n",
    "    table = str.maketrans('', '', string.punctuation)\n",
    "    text = re.sub(r'[0-9]+', '', text)\n",
    "    text = text.split()\n",
    "    text = [word for word in text if len(word.translate(table))>2]\n",
    "    return ' '.join(text)\n",
    "stripped = [textPuncandNum(text) for text in df['mod']]"
   ]
  },
  {
   "cell_type": "markdown",
   "metadata": {},
   "source": [
    "Creating list of unique words from this processed text, excluding <num\\>"
   ]
  },
  {
   "cell_type": "code",
   "execution_count": 16,
   "metadata": {
    "scrolled": true
   },
   "outputs": [
    {
     "data": {
      "text/plain": [
       "13107"
      ]
     },
     "execution_count": 16,
     "metadata": {},
     "output_type": "execute_result"
    }
   ],
   "source": [
    "low = list(stripped)\n",
    "low = ' '.join(low)\n",
    "low = list(set(low.split()))\n",
    "low.remove('<num>')\n",
    "len(low)"
   ]
  },
  {
   "cell_type": "code",
   "execution_count": 17,
   "metadata": {},
   "outputs": [
    {
     "data": {
      "text/plain": [
       "['correction:',\n",
       " 'robotic',\n",
       " 'lmao!',\n",
       " 'expansion',\n",
       " 'uptake',\n",
       " 'held.',\n",
       " 'hit.',\n",
       " 'why.',\n",
       " '$bur',\n",
       " 'https://finance.yahoo.com/news/credit-suisse-ag-announces-reverse-.html',\n",
       " 'cryptocurrency',\n",
       " 'c-suite',\n",
       " 'slv',\n",
       " 'you?',\n",
       " 'http://stks.co/tbnu',\n",
       " '$nxtd',\n",
       " '$snss',\n",
       " 'erinn...looks',\n",
       " 'japan.',\n",
       " 'wasn&#;t',\n",
       " 'metrics',\n",
       " 'days...',\n",
       " 'delux,',\n",
       " '$tfm',\n",
       " '$gpor',\n",
       " '$amrs-',\n",
       " 'gtav',\n",
       " '@tfnn',\n",
       " 'cpu',\n",
       " 'lunch.',\n",
       " 'doubted',\n",
       " '$cmm.v',\n",
       " '$omgbtc',\n",
       " '$sgoc',\n",
       " '$exk',\n",
       " 'mainstream',\n",
       " '$viab',\n",
       " 'capita',\n",
       " 'instant',\n",
       " 'cheaper',\n",
       " 'needham.',\n",
       " 'traffic',\n",
       " 'would',\n",
       " 'goiing',\n",
       " 'gdpr',\n",
       " '$fmsa',\n",
       " 'establish',\n",
       " 'agen',\n",
       " 'agrawals',\n",
       " 'price.',\n",
       " 'quickly?',\n",
       " '$jwn.',\n",
       " 'pricey',\n",
       " 'limits',\n",
       " 'confident.',\n",
       " 'launch.',\n",
       " 'amzn.',\n",
       " 'double+',\n",
       " 'https://www.thecontraaccountant.com/single-post////have-you-forgotten-about-the-',\n",
       " 'fool.',\n",
       " 'reforms.',\n",
       " 'sears',\n",
       " 'cycle',\n",
       " 'reach',\n",
       " 'excellent',\n",
       " 'tomorrow....capisce?',\n",
       " '$aprn',\n",
       " '&quot;office',\n",
       " 'achieved',\n",
       " 'something!',\n",
       " 'cap.',\n",
       " 'posts:&#;',\n",
       " 'laughing',\n",
       " 'since.',\n",
       " 'midnight',\n",
       " 'current',\n",
       " 'white',\n",
       " 'nyse',\n",
       " 'open!!',\n",
       " 'prices',\n",
       " 'mine',\n",
       " 'films.',\n",
       " '$pxs',\n",
       " 'through,',\n",
       " '$bont',\n",
       " 'strs',\n",
       " 'https://www.fda.gov/newsevents/newsroom/pressannouncements/ucm.htm',\n",
       " 'driver.',\n",
       " 'confirm.',\n",
       " '$apps',\n",
       " 'screenshot.',\n",
       " '$vips,',\n",
       " '#djia',\n",
       " 'okay',\n",
       " 'concluded,',\n",
       " '$cadc',\n",
       " 'news!',\n",
       " 'pop,',\n",
       " '$rkda',\n",
       " 'lots',\n",
       " 'uranium.',\n",
       " 'newfield',\n",
       " 'afrezza.',\n",
       " '$dea',\n",
       " '$amzn?',\n",
       " 'weakness.',\n",
       " 'carg',\n",
       " 'farfetched',\n",
       " '&quot;suffered&quot;',\n",
       " 'loser',\n",
       " 'swn',\n",
       " 'end!',\n",
       " 'generally',\n",
       " 'pick',\n",
       " 'gmv',\n",
       " 'tango',\n",
       " 'regarding',\n",
       " '$fnb',\n",
       " '$cann.x',\n",
       " '$cafd',\n",
       " '-mil',\n",
       " 'cod',\n",
       " 'hung',\n",
       " 'premarket',\n",
       " 'baycity,',\n",
       " 'kinda',\n",
       " '$mnk',\n",
       " 'rico',\n",
       " 'aug/sept',\n",
       " 'hemi',\n",
       " 'triangles',\n",
       " 'golden!',\n",
       " 'vetr',\n",
       " 'lord',\n",
       " 'turn',\n",
       " 'bet',\n",
       " 'hour!',\n",
       " 'con,',\n",
       " 'coming,',\n",
       " 'ready',\n",
       " 'ignored',\n",
       " '.squeeze',\n",
       " 'cook',\n",
       " '$edc,',\n",
       " 'hodlers',\n",
       " 'money',\n",
       " 'https://www.youtube.com/channel/ucb',\n",
       " 'coming.svxy',\n",
       " 'hour',\n",
       " '#massive',\n",
       " 'downloads.',\n",
       " 'http://www.swingstocktraders.com/performance.html',\n",
       " 'summary,',\n",
       " 'cnbc',\n",
       " 'up..holding',\n",
       " '$mmc',\n",
       " 'low',\n",
       " 'shareholders.',\n",
       " '$b...bidu',\n",
       " 'fine!',\n",
       " 'imminent.',\n",
       " 'holidays!',\n",
       " 'appeared',\n",
       " '$alxn',\n",
       " 'cvv.ca.',\n",
       " 'scalped',\n",
       " 'two-month',\n",
       " 'incompetent',\n",
       " '$emr',\n",
       " 'bigger',\n",
       " 'buddy.',\n",
       " 'squat',\n",
       " 'damn!!',\n",
       " 'tutes',\n",
       " 'watt.',\n",
       " 'geforce',\n",
       " '-new',\n",
       " 'bday',\n",
       " 'day,more',\n",
       " '$gme.',\n",
       " 'setups',\n",
       " 'louis',\n",
       " 'shits',\n",
       " '$xrp.x',\n",
       " '(only',\n",
       " 'network',\n",
       " 'everything',\n",
       " 'thousands',\n",
       " 'board.',\n",
       " 'average.',\n",
       " 'roi',\n",
       " 'bias-',\n",
       " 'got',\n",
       " 'udc',\n",
       " 'e-cigarettes',\n",
       " '..just',\n",
       " '$mynd',\n",
       " 'here',\n",
       " 'intc',\n",
       " 'yatch',\n",
       " 'comes.',\n",
       " '#editing',\n",
       " 'ago)',\n",
       " 'november',\n",
       " '&quot;short',\n",
       " 'globally.k',\n",
       " 'bag',\n",
       " 'aggressive',\n",
       " 'offing',\n",
       " 'maybe...just',\n",
       " 'lovein.',\n",
       " '.com/story/-doomed-stocks-to-sell-in-may-',\n",
       " 'curis',\n",
       " 'imbalance',\n",
       " 'back?',\n",
       " '$alo',\n",
       " '$expr',\n",
       " 'avg.',\n",
       " 'bod?',\n",
       " '$paas',\n",
       " 'extended',\n",
       " 'w/coal',\n",
       " '$itus',\n",
       " 'pete',\n",
       " 'surprise',\n",
       " 'stmicroelectronics',\n",
       " '(sold',\n",
       " 'multiply',\n",
       " 'sales@ascentsolar.com',\n",
       " 'beholding',\n",
       " '$mrk.',\n",
       " '$bts.x',\n",
       " '$vstm',\n",
       " 'panic.',\n",
       " 'campaign',\n",
       " '$gds',\n",
       " 'nowhere',\n",
       " 'unbelievable',\n",
       " 'indication',\n",
       " '$googl,',\n",
       " '$etp',\n",
       " 'zone,',\n",
       " 'winner!',\n",
       " 'time&#;s',\n",
       " 'possibility',\n",
       " 'capped',\n",
       " 'netflix.',\n",
       " '$dac',\n",
       " '$gme',\n",
       " 'additional',\n",
       " 'jump',\n",
       " 'celulose',\n",
       " 'sh!t',\n",
       " 'years.management',\n",
       " '.avg..going',\n",
       " 'https://investoralmanac.com////boyar-value-group-',\n",
       " 'worm',\n",
       " '$ubnt',\n",
       " 'fast;',\n",
       " '$giii',\n",
       " '$bnft',\n",
       " 'bastards',\n",
       " '$cqqq',\n",
       " 'meant',\n",
       " '#luckylou',\n",
       " 'profitable..',\n",
       " 'oct-',\n",
       " '{triangle}',\n",
       " 'bln',\n",
       " 'soar',\n",
       " '@illuminatiinvestments',\n",
       " 'https://www.linkedin.com/pulse/trade-idea-performance-review-buying-tax-loss-allan-parks-cfa?trk=pulse_spock-articles',\n",
       " 'secured)communications;',\n",
       " 'much',\n",
       " 'lift',\n",
       " 'rule&#;--',\n",
       " 'new?',\n",
       " 'downtrend.',\n",
       " 'opportunity.',\n",
       " 'normal?',\n",
       " '$delt.',\n",
       " 'ath',\n",
       " 'cannabis',\n",
       " '-ranked-stocks-inside-exodus-/',\n",
       " 'tuned',\n",
       " '$cj.ca',\n",
       " '$ipgp',\n",
       " 'dependent/foreign',\n",
       " 'semester',\n",
       " 'squabbles',\n",
       " 'gtt.ca',\n",
       " 'counted:',\n",
       " 'crypts',\n",
       " 'listen',\n",
       " 'mcl',\n",
       " 'broken',\n",
       " 'console.',\n",
       " 'yrs..lol',\n",
       " 'scam,',\n",
       " 'supply-dem-temps',\n",
       " 'wording',\n",
       " 'chunks',\n",
       " '$cgix',\n",
       " 'technology',\n",
       " 'left',\n",
       " '$vtl',\n",
       " 'mania',\n",
       " 'broken...',\n",
       " 'spdr',\n",
       " 'gdx',\n",
       " '#observation',\n",
       " 'patience...',\n",
       " 'careful.',\n",
       " '-cent',\n",
       " '$sune',\n",
       " 'pre',\n",
       " 'ride.',\n",
       " '$fdn',\n",
       " 'concert',\n",
       " 'jpvest',\n",
       " 'buyin',\n",
       " 'wow,repeat',\n",
       " 'impending',\n",
       " 'rule',\n",
       " 'trillion',\n",
       " 'asia.',\n",
       " 'data',\n",
       " 'perhaps.',\n",
       " 'weeks...not',\n",
       " '$akca',\n",
       " 'unique',\n",
       " '&lt;---my',\n",
       " 'mofos.',\n",
       " '?there',\n",
       " 'issue.',\n",
       " 'guy',\n",
       " 'unlimited',\n",
       " 'kim',\n",
       " 'list)',\n",
       " 'financing',\n",
       " 'mystras?',\n",
       " 'nhod-move',\n",
       " 'snatched',\n",
       " 'literally',\n",
       " 'cents,',\n",
       " 'augmented',\n",
       " 'operating',\n",
       " '$tnk',\n",
       " 'easiest',\n",
       " 'holidays.',\n",
       " 'england',\n",
       " '$ntnx',\n",
       " '..biotech',\n",
       " 'superior',\n",
       " 'ford',\n",
       " 'trading.',\n",
       " 'january',\n",
       " '$pkg',\n",
       " 'triangle.$vstm',\n",
       " '$xxii.',\n",
       " 'participate',\n",
       " 'week&#;s',\n",
       " 'stick',\n",
       " 'mid',\n",
       " 'nvidia,',\n",
       " 'qualcomm',\n",
       " 'courts',\n",
       " '$wstl',\n",
       " '$ptn.',\n",
       " 'ow.ly/fxgqg',\n",
       " '$cik',\n",
       " '$sino',\n",
       " 'sec?',\n",
       " '$btc',\n",
       " 'trouble',\n",
       " 'signal',\n",
       " 'thanks.',\n",
       " 'chase,',\n",
       " 'price:',\n",
       " 'lottos',\n",
       " 'shorters,',\n",
       " 'lying',\n",
       " 'rates',\n",
       " 'indicates',\n",
       " 'snap',\n",
       " 'ii)...last',\n",
       " '$airi',\n",
       " 'https://youtu.be/mwbswifoae',\n",
       " '$hwo.ca',\n",
       " 'tea',\n",
       " '$cco.ca',\n",
       " '$dia...compared',\n",
       " 'loaned',\n",
       " 'businesses',\n",
       " 'crazy,',\n",
       " 'ladies&amp;gentlemen,',\n",
       " 'sabby',\n",
       " 'father',\n",
       " '(new',\n",
       " 'officially',\n",
       " 'scary',\n",
       " 'poops',\n",
       " 'kraken...super',\n",
       " '$ita',\n",
       " 'cocaines',\n",
       " 'billionaire',\n",
       " 'nbix',\n",
       " 'labeled',\n",
       " 'daily,',\n",
       " 'pharms',\n",
       " 'useless/repeated',\n",
       " 'moon)',\n",
       " 'just',\n",
       " 'shoulda',\n",
       " '$cree',\n",
       " 'b...bidu',\n",
       " 'cares..',\n",
       " 'https://www.youtube.com/watch?v=azdaxmaqj',\n",
       " 'hopefully',\n",
       " '$vsar,$cycc,$nlst,$cycc,$sq,$cycc,$otic,$amzn,$cycc,$cycc....these',\n",
       " '#altcoins',\n",
       " 'coin',\n",
       " 'caca',\n",
       " '$yumc',\n",
       " 'collusion',\n",
       " '$spxsop',\n",
       " '$chk',\n",
       " 'whenever',\n",
       " 'dumb.',\n",
       " 'days,if',\n",
       " 'notepads.',\n",
       " 'present',\n",
       " 'hasn&#;t',\n",
       " '$uvxy...dow',\n",
       " 'naeve',\n",
       " '$ric',\n",
       " 'lower?',\n",
       " 'doses.',\n",
       " 'nak..',\n",
       " 'hivinfectious',\n",
       " 'maj',\n",
       " 'month).',\n",
       " 'announced#payerssniffin',\n",
       " 'models',\n",
       " 'checkout',\n",
       " 'increments.',\n",
       " 'this,',\n",
       " '$rgc',\n",
       " 'outperformance',\n",
       " 'closer',\n",
       " 'reving',\n",
       " 'consumer',\n",
       " 'reference',\n",
       " 'denied.',\n",
       " 'shares?',\n",
       " 'chief',\n",
       " 'download',\n",
       " '...fully',\n",
       " '$mrdn',\n",
       " 'compared',\n",
       " 're-test',\n",
       " 'timing',\n",
       " '$lulu',\n",
       " 'diluting',\n",
       " 'articles...too',\n",
       " 'sun',\n",
       " 'mgti',\n",
       " 'fitzgerald,',\n",
       " 'gta.',\n",
       " '$oild',\n",
       " 'brick',\n",
       " 'https://ledgergazette.com////ritter-pharmaceuticals-inc-rttr-given-consensus-recommendation-of-buy-by-analysts.html',\n",
       " '#cnbc',\n",
       " 'screw',\n",
       " 'analysis@https://goo.gl/crw',\n",
       " 'play.',\n",
       " 'one.',\n",
       " 'directors',\n",
       " '$athx',\n",
       " 'facts.',\n",
       " 'https://weather.com/maps/tendayforecast',\n",
       " 'sold.',\n",
       " 'after.back',\n",
       " 'opent',\n",
       " 'writing',\n",
       " 'idiot',\n",
       " 'sensitive',\n",
       " 'slaughtered',\n",
       " 'offering/backstop',\n",
       " 'htgm',\n",
       " 'pixar',\n",
       " '$jju.',\n",
       " 'disney',\n",
       " 'bofaml',\n",
       " 'monthly.',\n",
       " 'unsustainable',\n",
       " 'perils',\n",
       " '$ions',\n",
       " 'tom.',\n",
       " 'fekola',\n",
       " ',what',\n",
       " 'due',\n",
       " 'voted',\n",
       " 'shars',\n",
       " 'see;',\n",
       " 'statement',\n",
       " 'recap:today&#;s',\n",
       " 'quantum',\n",
       " 'damp',\n",
       " 'went',\n",
       " 'https://www.forbes.com/sites/blakemorgan////',\n",
       " 'outdoor',\n",
       " 'weeks!!',\n",
       " '(hrs',\n",
       " 'focus:',\n",
       " 'people.shows',\n",
       " 'horn',\n",
       " 'tank',\n",
       " '$brcm',\n",
       " 'samsung',\n",
       " '$aumn',\n",
       " 'dog.',\n",
       " 'royalties',\n",
       " 'bail',\n",
       " 'headed.',\n",
       " '$syn',\n",
       " 'investor.',\n",
       " 'factores',\n",
       " 'kinglist',\n",
       " 'dhl',\n",
       " 'firm',\n",
       " '$gevo',\n",
       " '$sfs',\n",
       " 'early.',\n",
       " 'j&amp;j',\n",
       " 'market',\n",
       " '$dtb.x',\n",
       " 'appears',\n",
       " '$nomd',\n",
       " 'want.',\n",
       " 'gratz',\n",
       " 'team!',\n",
       " '$ibm**.',\n",
       " 'followers,',\n",
       " 'flippers!',\n",
       " 'contracted',\n",
       " 'official',\n",
       " 'divi!',\n",
       " 'scsmper...',\n",
       " 'btc',\n",
       " '$crb',\n",
       " 'https://investoralmanac.com////bill-ackmans-q',\n",
       " 'days...just',\n",
       " 'first,',\n",
       " 'bcx',\n",
       " 'currencies',\n",
       " 'taxes',\n",
       " 'lol,',\n",
       " 'violation',\n",
       " '&quot;it',\n",
       " 'stocks.',\n",
       " 'cell',\n",
       " 'plays.',\n",
       " 'https://venturebeat.com////superdata-october-digital-game-revenue-up--percent-year-over-year-to-',\n",
       " '$agi',\n",
       " 'covering',\n",
       " '$aieq',\n",
       " 'strike.',\n",
       " 'safe',\n",
       " 'http://stks.co/cgp',\n",
       " 'http://roadmapretire.com/',\n",
       " 'http://thefly.com/landingpagenews.php?id=',\n",
       " 'gregory',\n",
       " 'echnuter.com/channel-news/blackberry-expands-its-channel-ecosystem-with-six-new-partners-in-india.html',\n",
       " 'lol!',\n",
       " 'that!',\n",
       " 'leveled',\n",
       " 'restructuring',\n",
       " '$hyg',\n",
       " '$xin.',\n",
       " 'fed',\n",
       " 'compare',\n",
       " '$ngas',\n",
       " 'kong',\n",
       " 'awake.',\n",
       " 'floaters,',\n",
       " 'reportedly',\n",
       " 'boom.',\n",
       " 'wish',\n",
       " 'cloud:',\n",
       " 'away...',\n",
       " 'heads',\n",
       " 'come!',\n",
       " 'only!?!',\n",
       " 'anti',\n",
       " '@reformedtrader',\n",
       " 'sucess,',\n",
       " '@freddy',\n",
       " 'closer.',\n",
       " 'gltu',\n",
       " 'from',\n",
       " 'evans',\n",
       " '(per',\n",
       " '$vygr',\n",
       " 'jamie',\n",
       " 'actress',\n",
       " 'liabilities',\n",
       " 'conference.',\n",
       " 'mil.',\n",
       " '$wpx',\n",
       " 'inventory?',\n",
       " 'www.tradespoon.com',\n",
       " 'long.stop@$',\n",
       " 'loses',\n",
       " '$spotgold',\n",
       " '$lac.ca',\n",
       " 'makes',\n",
       " 'changed.+',\n",
       " 'vitaliks',\n",
       " 'on&quot;...',\n",
       " 'comp.',\n",
       " 'arc',\n",
       " '$cvm.',\n",
       " 'super',\n",
       " '#tradesmart',\n",
       " 'accounting',\n",
       " 'hqy',\n",
       " '...aaaaand',\n",
       " 'increases,',\n",
       " '(adr)&#;s',\n",
       " 'day....let&#;s',\n",
       " 'called',\n",
       " 'longer',\n",
       " 'abcup',\n",
       " 'crew',\n",
       " '(low',\n",
       " 'euphoria',\n",
       " 'all!',\n",
       " '$box....patience',\n",
       " 'lolololol.',\n",
       " 'emerging',\n",
       " 'buying',\n",
       " 'combo',\n",
       " 'top)',\n",
       " 'evercore',\n",
       " '$tsri',\n",
       " '$snps,',\n",
       " '@bunkerbombs',\n",
       " 'https://apps.newyorkfed.org/markets/autorates/tomo-results-display?showmore=true&amp;startdate=//&amp;enddate=//',\n",
       " 'bitshit,',\n",
       " 'shaer',\n",
       " '$vii',\n",
       " '$osx',\n",
       " 'bubble',\n",
       " 'longing',\n",
       " 'highs?',\n",
       " 'gotten',\n",
       " 'twitter',\n",
       " 'holding,',\n",
       " 'your',\n",
       " 'formation',\n",
       " '$pbr',\n",
       " 'ships,',\n",
       " 'change?',\n",
       " 'movement',\n",
       " 'bogus',\n",
       " 'long;',\n",
       " 'weekend.',\n",
       " 'asia',\n",
       " 'know',\n",
       " 'tops',\n",
       " 'theaterdebut.',\n",
       " 'inception',\n",
       " 'accounts',\n",
       " 'promotion',\n",
       " 'btw',\n",
       " 'superhero',\n",
       " 'capable',\n",
       " 'shares..',\n",
       " 'dropping',\n",
       " 'debt?',\n",
       " 'http://www.wingcharts.com/?symbol=ung',\n",
       " 'behind',\n",
       " 'passes.',\n",
       " 'issuance',\n",
       " 'forward.',\n",
       " 'ago',\n",
       " 'follow.$mara',\n",
       " 'sheet,',\n",
       " 'correction.',\n",
       " '....gna',\n",
       " 'rocket,',\n",
       " 'riding',\n",
       " '....these',\n",
       " 'trash',\n",
       " 'japan',\n",
       " '...then',\n",
       " 'brain',\n",
       " 'changing',\n",
       " 'october.',\n",
       " '$kaly',\n",
       " '$akg',\n",
       " 'divs.',\n",
       " 'risinger',\n",
       " 'mil:',\n",
       " '$abio',\n",
       " 'lower,',\n",
       " '$vicl',\n",
       " '=iphone,',\n",
       " '$epe',\n",
       " 'biggest',\n",
       " 'files',\n",
       " 'tightening',\n",
       " '$audcad',\n",
       " 'low,',\n",
       " 'enough,',\n",
       " '$ears,',\n",
       " 'record.',\n",
       " 'bearsish',\n",
       " 'buys.',\n",
       " '$wfc',\n",
       " '$slca',\n",
       " 'cracks',\n",
       " 'resistance.',\n",
       " '$btk',\n",
       " 'belt',\n",
       " 'breakout.',\n",
       " 'otc...,',\n",
       " 'alot.',\n",
       " 'noob',\n",
       " 'experiences.',\n",
       " '$peteinsd',\n",
       " 'seasoned',\n",
       " '.,what',\n",
       " 'digits',\n",
       " '$amsc',\n",
       " 'this--&gt;',\n",
       " '...very',\n",
       " '-month',\n",
       " 'bil.',\n",
       " 'began',\n",
       " 'puts,',\n",
       " 'whales',\n",
       " '=ipod,',\n",
       " 'steele...',\n",
       " 'ritter',\n",
       " 'longer.',\n",
       " 'boundaries...',\n",
       " 'day,reversal,',\n",
       " 'felt',\n",
       " 'imo...been',\n",
       " 'rlog&#;s',\n",
       " 'impostors',\n",
       " 'longs!!!',\n",
       " 'savings...',\n",
       " '..that',\n",
       " 'linden',\n",
       " '@bullionsean',\n",
       " 'https://seekingalpha.com/article/-big-',\n",
       " 'wma.',\n",
       " 'damn',\n",
       " 'hong',\n",
       " 'storms',\n",
       " 'stands..',\n",
       " 'part',\n",
       " '$nakd',\n",
       " 'days....',\n",
       " '@usamolonlabe',\n",
       " 'jail',\n",
       " 'https://seekingalpha.com/article/-blackberrys-bbry-ceo-john-chen-q',\n",
       " 'http://majorleaguestocks.com',\n",
       " '$wynn',\n",
       " 'foreign',\n",
       " 'range.',\n",
       " 'utility',\n",
       " 'sphs',\n",
       " 'timeframe',\n",
       " 'bak',\n",
       " 'performance',\n",
       " 'control.',\n",
       " '(http://www.otcmarkets.com/stock/fuapf/quote)',\n",
       " 'wal-mart',\n",
       " 'radar',\n",
       " '(swing)',\n",
       " 'halt!',\n",
       " 'volume=good',\n",
       " '$swks',\n",
       " 'weak',\n",
       " 'leg.',\n",
       " '@wallstreetopgun',\n",
       " '$ovas',\n",
       " 'energy,',\n",
       " 'everyday',\n",
       " 'walls-',\n",
       " 'joint',\n",
       " 'approved,until',\n",
       " '$ras',\n",
       " 'remember',\n",
       " '$insy',\n",
       " 'zuma',\n",
       " 'shows',\n",
       " '-energy',\n",
       " 'xxii.',\n",
       " '$tsm',\n",
       " '$adro',\n",
       " '&#;&#;going',\n",
       " '$cpg',\n",
       " 'signet&#;s',\n",
       " 'token)',\n",
       " 'thanks!!',\n",
       " 'dick&#;s',\n",
       " 'makes.',\n",
       " 'ftr',\n",
       " 'worry',\n",
       " '@mkahn',\n",
       " 'notepads',\n",
       " 'attempts',\n",
       " 'w/big',\n",
       " 'china!',\n",
       " 'borrow,',\n",
       " '(it&#;s',\n",
       " 'partnerships!',\n",
       " 'step',\n",
       " '$atvi',\n",
       " 'running',\n",
       " 'decreased',\n",
       " 'gain!',\n",
       " 'addicted',\n",
       " 'inflection',\n",
       " 'i&#;ll',\n",
       " 'https://www.tradingview.com/x/qzfwphyl/',\n",
       " 'this&#;ll',\n",
       " 'shares-i',\n",
       " 'goof',\n",
       " 'special',\n",
       " '$enph',\n",
       " 'resurgence',\n",
       " '$asti',\n",
       " 'drinking',\n",
       " 'partnership',\n",
       " '$ltc',\n",
       " '$doge',\n",
       " '$aimt',\n",
       " 'https://investoralmanac.com////baron-energy-and-resources-',\n",
       " 'limelight!',\n",
       " '(called',\n",
       " 'xiaomi',\n",
       " 'goimg',\n",
       " 'hover',\n",
       " '$msft.',\n",
       " 'rice,',\n",
       " 'jaffrey',\n",
       " '$srci',\n",
       " 'fam.',\n",
       " 'maths',\n",
       " 'day&#;s',\n",
       " 'csco',\n",
       " 'riot',\n",
       " '$tdoc',\n",
       " 'tulip',\n",
       " '$amd',\n",
       " 'tomorro',\n",
       " 'firms,',\n",
       " '$intc',\n",
       " 'something!!!!!!',\n",
       " '$strat.x',\n",
       " 'trucking.',\n",
       " 'halt',\n",
       " 'proof',\n",
       " 'fast.',\n",
       " 'topic',\n",
       " '@claytrader',\n",
       " '$fnko',\n",
       " 'yestrday,watch',\n",
       " '$cmls',\n",
       " '-stay',\n",
       " 'f-it',\n",
       " '$mime',\n",
       " 'friday.',\n",
       " 'steam?',\n",
       " 'spot',\n",
       " 'thick',\n",
       " 'add',\n",
       " 'america',\n",
       " 'while',\n",
       " 'brief',\n",
       " 'awww',\n",
       " 'weekend...i',\n",
       " 'support,but',\n",
       " 'upwards',\n",
       " 'well.',\n",
       " 'agribusiness',\n",
       " 'big.',\n",
       " 'greece',\n",
       " 'ranging',\n",
       " 'hope,',\n",
       " 'cold',\n",
       " 'industrials',\n",
       " '^^^side',\n",
       " 'oooops',\n",
       " 'nearing',\n",
       " 'float,',\n",
       " 'rotation.',\n",
       " 'manipulated',\n",
       " 'extreme',\n",
       " 'closely',\n",
       " 'jinping&#;s',\n",
       " 'them!',\n",
       " '-contradictions-plaguing-the-industry-peak-demand-really/',\n",
       " 'lips.',\n",
       " '$mygn',\n",
       " 'wanting',\n",
       " 'fly',\n",
       " 'fut',\n",
       " 'horizon.',\n",
       " 'falc..',\n",
       " 'positons)',\n",
       " 'and',\n",
       " 'material',\n",
       " 'senhance',\n",
       " 'out!',\n",
       " 'ending-',\n",
       " 'potential',\n",
       " 'all-inclusive',\n",
       " 'nears',\n",
       " 'pts',\n",
       " '$sndx',\n",
       " 'him',\n",
       " 'boy',\n",
       " 'macs',\n",
       " 'uphill',\n",
       " '@brnlry',\n",
       " '$tqqq*',\n",
       " '(ex-csco)',\n",
       " '$mtem',\n",
       " 'trxc,rnn,',\n",
       " '$chma',\n",
       " '(not',\n",
       " 'low?',\n",
       " 'equip',\n",
       " 'outperforming',\n",
       " 'buts',\n",
       " 'john',\n",
       " 'different',\n",
       " 'cleaner.',\n",
       " 'working...lol',\n",
       " 'now',\n",
       " 'gained',\n",
       " '@brianq',\n",
       " 'amendment',\n",
       " 'play$dcth',\n",
       " ',see',\n",
       " 'est-...',\n",
       " 'lod',\n",
       " 'kroger',\n",
       " 'second,',\n",
       " 'agreement,',\n",
       " 'catalysts,',\n",
       " 'explode.',\n",
       " 'runs.',\n",
       " '(kaltf)',\n",
       " 'service',\n",
       " 'phb',\n",
       " 'day,mayb',\n",
       " 'printers',\n",
       " 'basing',\n",
       " 'temporary.',\n",
       " 'tip,',\n",
       " '@chevymonza',\n",
       " 'device.next',\n",
       " 'doesn&#;t',\n",
       " 'beauty,',\n",
       " 'usd/jpy',\n",
       " 'both',\n",
       " 'labor',\n",
       " 'cumulated',\n",
       " '$kmx',\n",
       " 'management-deploy',\n",
       " 'going.',\n",
       " 'dumpers..',\n",
       " 'tip',\n",
       " 'tuesday&#;s',\n",
       " 'https://www.law.cornell.edu/cfr/text//.',\n",
       " 'https://www.youtube.com/watch?v=xgfkpzkfq',\n",
       " 'staff',\n",
       " 'boston',\n",
       " 'discounts',\n",
       " '#btsusd',\n",
       " 'limit,',\n",
       " 'burning',\n",
       " 'everyone-there',\n",
       " 'continuing.',\n",
       " 'https://seekingalpha.com/article/-aralez-pharmaceuticals-update-q',\n",
       " 'fixed',\n",
       " 'end...',\n",
       " 'android',\n",
       " 'old,',\n",
       " 'hurts,',\n",
       " 'fluff',\n",
       " 'days...news???',\n",
       " ...]"
      ]
     },
     "execution_count": 17,
     "metadata": {},
     "output_type": "execute_result"
    }
   ],
   "source": [
    "low"
   ]
  },
  {
   "cell_type": "markdown",
   "metadata": {},
   "source": [
    "Using model to get embeddingss for these words"
   ]
  },
  {
   "cell_type": "code",
   "execution_count": 18,
   "metadata": {},
   "outputs": [],
   "source": [
    "embed = model.wv[low]"
   ]
  },
  {
   "cell_type": "code",
   "execution_count": 19,
   "metadata": {},
   "outputs": [
    {
     "data": {
      "text/plain": [
       "(13107, 100)"
      ]
     },
     "execution_count": 19,
     "metadata": {},
     "output_type": "execute_result"
    }
   ],
   "source": [
    "embed.shape"
   ]
  },
  {
   "cell_type": "markdown",
   "metadata": {},
   "source": [
    "Indexing these unqique words in a dictionary "
   ]
  },
  {
   "cell_type": "code",
   "execution_count": 20,
   "metadata": {},
   "outputs": [],
   "source": [
    "label_dict = {k: v for v, k in enumerate(low)}\n",
    "label_dict['<num>'] = len(label_dict) "
   ]
  },
  {
   "cell_type": "markdown",
   "metadata": {},
   "source": [
    "Adding <num\\> back in "
   ]
  },
  {
   "cell_type": "code",
   "execution_count": 21,
   "metadata": {},
   "outputs": [
    {
     "data": {
      "text/plain": [
       "13107"
      ]
     },
     "execution_count": 21,
     "metadata": {},
     "output_type": "execute_result"
    }
   ],
   "source": [
    "label_dict['<num>']"
   ]
  },
  {
   "cell_type": "markdown",
   "metadata": {},
   "source": [
    "Adding filler word to keep all tweets the same length. Then replacing all words with their dictionary equivalent. This is for tenssorflows matrix creation"
   ]
  },
  {
   "cell_type": "code",
   "execution_count": 22,
   "metadata": {},
   "outputs": [],
   "source": [
    "bufferIndex = len(label_dict) "
   ]
  },
  {
   "cell_type": "code",
   "execution_count": 45,
   "metadata": {},
   "outputs": [],
   "source": [
    "import numpy as np\n",
    "modifiedText = [[label_dict[word] for word in text.split()]for text in stripped]\n",
    "maxLen = max(map(len, modifiedText))\n",
    "for item in modifiedText:                # for each item in the list\n",
    "    while len(item) < maxLen:            # while the item length is smaller than maxLen\n",
    "        item.append(bufferIndex) \n",
    "numpyInp = np.asarray(modifiedText)"
   ]
  },
  {
   "cell_type": "code",
   "execution_count": 46,
   "metadata": {},
   "outputs": [
    {
     "data": {
      "text/plain": [
       "array([[13095,  8663, 13107, ..., 13108, 13108, 13108],\n",
       "       [11365,   729, 10143, ..., 13108, 13108, 13108],\n",
       "       [ 3805,  2562,   191, ..., 13108, 13108, 13108],\n",
       "       ...,\n",
       "       [ 3989, 12604,  9343, ..., 13108, 13108, 13108],\n",
       "       [12534,  5903,  1038, ..., 13108, 13108, 13108],\n",
       "       [13107, 12534,  5903, ..., 13108, 13108, 13108]])"
      ]
     },
     "execution_count": 46,
     "metadata": {},
     "output_type": "execute_result"
    }
   ],
   "source": [
    "numpyInp"
   ]
  },
  {
   "cell_type": "markdown",
   "metadata": {},
   "source": [
    "Adding in unique embeddings for <num\\> and filler"
   ]
  },
  {
   "cell_type": "code",
   "execution_count": 47,
   "metadata": {},
   "outputs": [],
   "source": [
    "embed = np.vstack((embed, np.zeros(100)+20, np.zeros(100)+25))"
   ]
  },
  {
   "cell_type": "code",
   "execution_count": 48,
   "metadata": {},
   "outputs": [
    {
     "data": {
      "text/plain": [
       "(13111, 100)"
      ]
     },
     "execution_count": 48,
     "metadata": {},
     "output_type": "execute_result"
    }
   ],
   "source": [
    "embed.shape"
   ]
  },
  {
   "cell_type": "markdown",
   "metadata": {},
   "source": [
    "## Implementing Convolutional Layer"
   ]
  },
  {
   "cell_type": "code",
   "execution_count": 49,
   "metadata": {},
   "outputs": [],
   "source": [
    "import tensorflow as tf\n",
    "batch_size = 16"
   ]
  },
  {
   "cell_type": "code",
   "execution_count": 50,
   "metadata": {},
   "outputs": [],
   "source": [
    "tf.reset_default_graph()"
   ]
  },
  {
   "cell_type": "markdown",
   "metadata": {},
   "source": [
    "Creating the embedding matrix for any input\n"
   ]
  },
  {
   "cell_type": "code",
   "execution_count": 51,
   "metadata": {},
   "outputs": [],
   "source": [
    "labels = pd.get_dummies(df['cat_num'])"
   ]
  },
  {
   "cell_type": "markdown",
   "metadata": {},
   "source": [
    "Batching and creating iterators"
   ]
  },
  {
   "cell_type": "code",
   "execution_count": 52,
   "metadata": {},
   "outputs": [],
   "source": [
    "train = (numpyInp, labels)\n",
    "\n",
    "# create training Dataset and batch it\n",
    "train_data = tf.data.Dataset.from_tensor_slices(train)\n",
    "train_data = train_data.shuffle(10000) # if you want to shuffle your data\n",
    "train_data = train_data.batch(batch_size)\n",
    "\n",
    "# create one iterator and initialize it with different datasets\n",
    "iterator = tf.data.Iterator.from_structure(train_data.output_types, \n",
    "                                           train_data.output_shapes)\n",
    "txt, label = iterator.get_next()\n",
    "\n",
    "train_init = iterator.make_initializer(train_data)"
   ]
  },
  {
   "cell_type": "code",
   "execution_count": 53,
   "metadata": {},
   "outputs": [],
   "source": [
    "embedding = tf.nn.embedding_lookup(embed, txt, partition_strategy='mod', name=None)\n",
    "embedded_chars_expanded = tf.expand_dims(embedding, -1)"
   ]
  },
  {
   "cell_type": "markdown",
   "metadata": {},
   "source": [
    "What does enumerate do?\n"
   ]
  },
  {
   "cell_type": "code",
   "execution_count": 54,
   "metadata": {
    "scrolled": false
   },
   "outputs": [
    {
     "name": "stdout",
     "output_type": "stream",
     "text": [
      "(0, 0)\n",
      "(1, 3)\n",
      "(2, 4)\n"
     ]
    }
   ],
   "source": [
    "filter_sizes = [0,3,4]\n",
    "for i in enumerate(filter_sizes):\n",
    "    print(i)"
   ]
  },
  {
   "cell_type": "markdown",
   "metadata": {},
   "source": [
    "Failed attempt using predefined filter\n",
    "Update: Works now, not using tho"
   ]
  },
  {
   "cell_type": "code",
   "execution_count": 55,
   "metadata": {},
   "outputs": [
    {
     "data": {
      "text/plain": [
       "\"\\nWINDOW_SIZE = 100\\nSTRIDE = int(WINDOW_SIZE/2)\\n#embedding2 = tf.expand_dims(embedding, axis = 1)\\nconv = tf.layers.conv2d(embedded_chars_expanded, 2, [2,WINDOW_SIZE], \\n               strides=1, padding='SAME') \\nconv = tf.nn.relu(conv)   \\nwords = flatten(conv)\\n\""
      ]
     },
     "execution_count": 55,
     "metadata": {},
     "output_type": "execute_result"
    }
   ],
   "source": [
    "'''\n",
    "WINDOW_SIZE = 100\n",
    "STRIDE = int(WINDOW_SIZE/2)\n",
    "#embedding2 = tf.expand_dims(embedding, axis = 1)\n",
    "conv = tf.layers.conv2d(embedded_chars_expanded, 2, [2,WINDOW_SIZE], \n",
    "               strides=1, padding='SAME') \n",
    "conv = tf.nn.relu(conv)   \n",
    "words = flatten(conv)\n",
    "'''"
   ]
  },
  {
   "cell_type": "code",
   "execution_count": 56,
   "metadata": {},
   "outputs": [
    {
     "data": {
      "text/plain": [
       "<tf.Tensor 'embedding_lookup/Identity:0' shape=(?, 26, 100) dtype=float64>"
      ]
     },
     "execution_count": 56,
     "metadata": {},
     "output_type": "execute_result"
    }
   ],
   "source": [
    "embedding"
   ]
  },
  {
   "cell_type": "code",
   "execution_count": 57,
   "metadata": {},
   "outputs": [
    {
     "data": {
      "text/plain": [
       "<tf.Tensor 'ExpandDims:0' shape=(?, 26, 100, 1) dtype=float64>"
      ]
     },
     "execution_count": 57,
     "metadata": {},
     "output_type": "execute_result"
    }
   ],
   "source": [
    "embedded_chars_expanded"
   ]
  },
  {
   "cell_type": "markdown",
   "metadata": {},
   "source": [
    "Implementing looped convolution"
   ]
  },
  {
   "cell_type": "code",
   "execution_count": 58,
   "metadata": {},
   "outputs": [],
   "source": [
    "pooled_outputs = []\n",
    "filter_sizes = [2, 3, 5]\n",
    "embedding_size = 100\n",
    "num_filters = 2\n",
    "max_length = 26\n",
    "for filter_size in filter_sizes:\n",
    "    filter_shape = [filter_size, embedding_size, 1, num_filters]\n",
    "    W = tf.Variable(tf.truncated_normal(filter_shape, stddev=0.1), name='W')\n",
    "    b = tf.Variable(tf.constant(0.1, shape=[num_filters]), name = 'b')\n",
    "    conv = tf.nn.conv2d(\n",
    "        embedded_chars_expanded,\n",
    "        tf.cast(W,tf.float64),\n",
    "        strides=[1, 1, 1, 1],\n",
    "        padding='VALID',\n",
    "        name='conv')\n",
    "    relu = tf.nn.relu(tf.nn.bias_add(conv, tf.cast(b,tf.float64)), name=\"relu\")\n",
    "    pooled = tf.nn.max_pool(\n",
    "        relu,\n",
    "        ksize=[1, max_length - filter_size + 1, 1, 1],\n",
    "        strides=[1, 1, 1, 1],\n",
    "        padding='VALID',\n",
    "        name=\"pool\")\n",
    "    pooled_outputs.append(pooled)"
   ]
  },
  {
   "cell_type": "code",
   "execution_count": 59,
   "metadata": {
    "scrolled": true
   },
   "outputs": [
    {
     "data": {
      "text/plain": [
       "[<tf.Tensor 'pool:0' shape=(?, 1, 1, 2) dtype=float64>,\n",
       " <tf.Tensor 'pool_1:0' shape=(?, 1, 1, 2) dtype=float64>,\n",
       " <tf.Tensor 'pool_2:0' shape=(?, 1, 1, 2) dtype=float64>]"
      ]
     },
     "execution_count": 59,
     "metadata": {},
     "output_type": "execute_result"
    }
   ],
   "source": [
    "pooled_outputs"
   ]
  },
  {
   "cell_type": "markdown",
   "metadata": {},
   "source": [
    "Combining separate convolutional layers into 1 feed forward input"
   ]
  },
  {
   "cell_type": "code",
   "execution_count": 60,
   "metadata": {},
   "outputs": [],
   "source": [
    "num_filters_total = num_filters * len(filter_sizes)\n",
    "combined = tf.concat(pooled_outputs, 3)\n",
    "combined_flat = tf.reshape(combined, [-1, num_filters_total])"
   ]
  },
  {
   "cell_type": "code",
   "execution_count": 61,
   "metadata": {},
   "outputs": [
    {
     "data": {
      "text/plain": [
       "<tf.Tensor 'Reshape:0' shape=(?, 6) dtype=float64>"
      ]
     },
     "execution_count": 61,
     "metadata": {},
     "output_type": "execute_result"
    }
   ],
   "source": [
    "combined_flat"
   ]
  },
  {
   "cell_type": "markdown",
   "metadata": {},
   "source": [
    "Adding dense layers"
   ]
  },
  {
   "cell_type": "code",
   "execution_count": 62,
   "metadata": {},
   "outputs": [],
   "source": [
    "conn = tf.layers.dense(combined_flat, 100, activation = 'relu')\n",
    "conn2 = tf.layers.dense(conn, len(set(df.cat_num)))"
   ]
  },
  {
   "cell_type": "code",
   "execution_count": 63,
   "metadata": {},
   "outputs": [
    {
     "data": {
      "text/plain": [
       "<tf.Tensor 'dense/Relu:0' shape=(?, 100) dtype=float64>"
      ]
     },
     "execution_count": 63,
     "metadata": {},
     "output_type": "execute_result"
    }
   ],
   "source": [
    "conn"
   ]
  },
  {
   "cell_type": "markdown",
   "metadata": {},
   "source": [
    "Implementing cross entropy, loss, and optimization"
   ]
  },
  {
   "cell_type": "code",
   "execution_count": 64,
   "metadata": {},
   "outputs": [],
   "source": [
    "n_epochs = 50\n",
    "entropy = tf.nn.softmax_cross_entropy_with_logits(labels = label, logits = conn2)\n",
    "loss = tf.reduce_mean(entropy)\n",
    "optimizer = tf.train.AdamOptimizer(learning_rate = 0.001).minimize(loss)"
   ]
  },
  {
   "cell_type": "markdown",
   "metadata": {},
   "source": [
    "Prediction setup"
   ]
  },
  {
   "cell_type": "code",
   "execution_count": 65,
   "metadata": {},
   "outputs": [],
   "source": [
    "preds = tf.nn.softmax(conn2)\n",
    "correct_preds = tf.equal(tf.argmax(preds, 1), tf.argmax(label, 1))\n",
    "accuracy = tf.reduce_mean(tf.cast(correct_preds, tf.float32))"
   ]
  },
  {
   "cell_type": "markdown",
   "metadata": {},
   "source": [
    "Running Neural Net"
   ]
  },
  {
   "cell_type": "code",
   "execution_count": 67,
   "metadata": {},
   "outputs": [
    {
     "name": "stdout",
     "output_type": "stream",
     "text": [
      "Average loss epoch 0: 1.5219268212773858\n",
      "Average accuracy 0: 0.40580357142857143\n",
      "Average loss epoch 1: 1.4015838796841649\n",
      "Average accuracy 1: 0.46577380952380953\n",
      "Average loss epoch 2: 1.3362521960858027\n",
      "Average accuracy 2: 0.4924107142857143\n",
      "Average loss epoch 3: 1.2936875659424627\n",
      "Average accuracy 3: 0.5086309523809524\n",
      "Average loss epoch 4: 1.2510061093359401\n",
      "Average accuracy 4: 0.5215773809523809\n",
      "Average loss epoch 5: 1.2153263375953338\n",
      "Average accuracy 5: 0.5367559523809524\n",
      "Average loss epoch 6: 1.1814804627139763\n",
      "Average accuracy 6: 0.5488095238095239\n",
      "Average loss epoch 7: 1.1550278235643308\n",
      "Average accuracy 7: 0.5629464285714286\n",
      "Average loss epoch 8: 1.1312451021707328\n",
      "Average accuracy 8: 0.5669642857142857\n",
      "Average loss epoch 9: 1.1153681253860992\n",
      "Average accuracy 9: 0.578422619047619\n",
      "Average loss epoch 10: 1.0893853429656508\n",
      "Average accuracy 10: 0.58125\n",
      "Average loss epoch 11: 1.0798366108340913\n",
      "Average accuracy 11: 0.5889880952380953\n",
      "Average loss epoch 12: 1.068692325122413\n",
      "Average accuracy 12: 0.5901785714285714\n",
      "Average loss epoch 13: 1.0554504606878987\n",
      "Average accuracy 13: 0.5989583333333334\n",
      "Average loss epoch 14: 1.0393254665488187\n",
      "Average accuracy 14: 0.6044642857142857\n",
      "Average loss epoch 15: 1.0270794370455307\n",
      "Average accuracy 15: 0.6108630952380952\n",
      "Average loss epoch 16: 1.0133160706207025\n",
      "Average accuracy 16: 0.6084821428571429\n",
      "Average loss epoch 17: 1.0019908798359722\n",
      "Average accuracy 17: 0.61875\n",
      "Average loss epoch 18: 0.9970603200433866\n",
      "Average accuracy 18: 0.6172619047619048\n",
      "Average loss epoch 19: 0.9857974690202725\n",
      "Average accuracy 19: 0.6217261904761905\n",
      "Average loss epoch 20: 0.9825636355712324\n",
      "Average accuracy 20: 0.6205357142857143\n",
      "Average loss epoch 21: 0.9670413286216182\n",
      "Average accuracy 21: 0.6311011904761905\n",
      "Average loss epoch 22: 0.9625145913575532\n",
      "Average accuracy 22: 0.6294642857142857\n",
      "Average loss epoch 23: 0.9533354315782123\n",
      "Average accuracy 23: 0.6342261904761904\n",
      "Average loss epoch 24: 0.9458685722820125\n",
      "Average accuracy 24: 0.6348214285714285\n",
      "Average loss epoch 25: 0.9483155948520648\n",
      "Average accuracy 25: 0.640625\n",
      "Average loss epoch 26: 0.9349354004391548\n",
      "Average accuracy 26: 0.6398809523809523\n",
      "Average loss epoch 27: 0.9332753743772212\n",
      "Average accuracy 27: 0.6383928571428571\n",
      "Average loss epoch 28: 0.9220125794518975\n",
      "Average accuracy 28: 0.6507440476190476\n",
      "Average loss epoch 29: 0.9139669282118865\n",
      "Average accuracy 29: 0.6495535714285714\n",
      "Average loss epoch 30: 0.9194109269063828\n",
      "Average accuracy 30: 0.65625\n",
      "Average loss epoch 31: 0.908871721570327\n",
      "Average accuracy 31: 0.6485119047619048\n",
      "Average loss epoch 32: 0.9067010405546413\n",
      "Average accuracy 32: 0.6526785714285714\n",
      "Average loss epoch 33: 0.8998075648765695\n",
      "Average accuracy 33: 0.6569940476190477\n",
      "Average loss epoch 34: 0.899765173697323\n",
      "Average accuracy 34: 0.6581845238095239\n",
      "Average loss epoch 35: 0.8858659560291006\n",
      "Average accuracy 35: 0.6636904761904762\n",
      "Average loss epoch 36: 0.886641723617875\n",
      "Average accuracy 36: 0.6599702380952381\n",
      "Average loss epoch 37: 0.8826468923951184\n",
      "Average accuracy 37: 0.6595238095238095\n",
      "Average loss epoch 38: 0.8793448469709773\n",
      "Average accuracy 38: 0.6705357142857142\n",
      "Average loss epoch 39: 0.871690090572503\n",
      "Average accuracy 39: 0.6703869047619048\n",
      "Average loss epoch 40: 0.863615557210048\n",
      "Average accuracy 40: 0.671577380952381\n",
      "Average loss epoch 41: 0.8602693501652837\n",
      "Average accuracy 41: 0.6727678571428571\n",
      "Average loss epoch 42: 0.8632946208783397\n",
      "Average accuracy 42: 0.6683035714285714\n",
      "Average loss epoch 43: 0.8506274792486143\n",
      "Average accuracy 43: 0.6706845238095238\n",
      "Average loss epoch 44: 0.8508270589135433\n",
      "Average accuracy 44: 0.6787202380952381\n",
      "Average loss epoch 45: 0.848504884095665\n",
      "Average accuracy 45: 0.6754464285714286\n",
      "Average loss epoch 46: 0.8466261405943373\n",
      "Average accuracy 46: 0.6802083333333333\n",
      "Average loss epoch 47: 0.8465096954167447\n",
      "Average accuracy 47: 0.6790178571428571\n",
      "Average loss epoch 48: 0.8380284476694121\n",
      "Average accuracy 48: 0.6767857142857143\n",
      "Average loss epoch 49: 0.8312340190380255\n",
      "Average accuracy 49: 0.6839285714285714\n"
     ]
    }
   ],
   "source": [
    "with tf.Session() as sess:\n",
    "    #start_time = time.time()\n",
    "    sess.run(tf.global_variables_initializer())\n",
    "    # train the model n_epochs times\n",
    "\n",
    "    for i in range(n_epochs): \n",
    "        \n",
    "        sess.run(train_init)# drawing samples from train_data\n",
    "        total_loss = 0\n",
    "        total_right = 0\n",
    "        n_batches = 0\n",
    "        totalright = 0\n",
    "        try:\n",
    "            while True:\n",
    "                #summary,acc,_, l = sess.run([summary_op,accuracy,optimizer, loss]) #use with scalar summary\n",
    "                acc,_, l = sess.run([accuracy, optimizer, loss])                \n",
    "                total_loss += l\n",
    "                total_right += acc\n",
    "                n_batches += 1\n",
    "        except tf.errors.OutOfRangeError:\n",
    "            pass\n",
    "\n",
    "        print('Average loss epoch {0}: {1}'.format(i, total_loss/n_batches))\n",
    "        print('Accuracy {0}: {1}'.format(i, total_right/n_batches))    \n",
    "    prediction = sess.run(preds, feed_dict={txt: numpyInp})\n",
    "    prediction = np.asarray(prediction)\n"
   ]
  },
  {
   "cell_type": "markdown",
   "metadata": {},
   "source": [
    "Calculating accuracy for train"
   ]
  },
  {
   "cell_type": "code",
   "execution_count": 68,
   "metadata": {},
   "outputs": [],
   "source": [
    "out_preds = np.equal(np.argmax(prediction, 1), labels.idxmax(axis = 1))\n",
    "acc = np.mean(out_preds)"
   ]
  },
  {
   "cell_type": "code",
   "execution_count": 69,
   "metadata": {},
   "outputs": [
    {
     "data": {
      "text/plain": [
       "<tf.Tensor 'Mean_1:0' shape=() dtype=float32>"
      ]
     },
     "execution_count": 69,
     "metadata": {},
     "output_type": "execute_result"
    }
   ],
   "source": [
    "accuracy"
   ]
  },
  {
   "cell_type": "markdown",
   "metadata": {},
   "source": [
    "Fooling around with numpy"
   ]
  },
  {
   "cell_type": "code",
   "execution_count": null,
   "metadata": {},
   "outputs": [],
   "source": [
    "f = np.array([[[1,2,3], [1,2,3]], [[1,2,3], [1,2,3]], [[1,2,3], [1,2,3]]])\n",
    "#f = np.array([[1,2,3], [1,2,3]])\n",
    "#print(f)\n",
    "g = np.expand_dims(f, axis = 1)\n",
    "g = np.reshape(f, [-1,2])\n",
    "print(g)\n",
    "print(g.shape)\n",
    "print(np.squeeze(g))"
   ]
  }
 ],
 "metadata": {
  "kernelspec": {
   "display_name": "Python 3",
   "language": "python",
   "name": "python3"
  },
  "language_info": {
   "codemirror_mode": {
    "name": "ipython",
    "version": 3
   },
   "file_extension": ".py",
   "mimetype": "text/x-python",
   "name": "python",
   "nbconvert_exporter": "python",
   "pygments_lexer": "ipython3",
   "version": "3.6.8"
  }
 },
 "nbformat": 4,
 "nbformat_minor": 2
}
