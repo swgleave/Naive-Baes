{
 "cells": [
  {
   "cell_type": "code",
   "execution_count": 15,
   "metadata": {},
   "outputs": [],
   "source": [
    "#import\n",
    "import pandas as pd\n",
    "from gensim.models.fasttext import FastText\n",
    "import numpy as np\n",
    "from sklearn.ensemble import RandomForestClassifier\n",
    "from sklearn.model_selection import train_test_split\n",
    "from sklearn.metrics import accuracy_score"
   ]
  },
  {
   "cell_type": "code",
   "execution_count": 4,
   "metadata": {},
   "outputs": [],
   "source": [
    "#read data\n",
    "df = pd.read_csv('finnum/train.csv')\n",
    "x = df.index\n",
    "dfval = pd.read_csv('finnum/dev.csv')"
   ]
  },
  {
   "cell_type": "code",
   "execution_count": 5,
   "metadata": {},
   "outputs": [],
   "source": [
    "df['cat_num'] = df['category'].astype('category').cat.codes\n",
    "dfval['cat_num'] = dfval['category'].astype('category').cat.codes"
   ]
  },
  {
   "cell_type": "code",
   "execution_count": 6,
   "metadata": {},
   "outputs": [],
   "source": [
    "#load embeddings\n",
    "model = FastText.load('Gensim FastText Vectors/fastText1')"
   ]
  },
  {
   "cell_type": "code",
   "execution_count": 7,
   "metadata": {},
   "outputs": [],
   "source": [
    "#lowcase all text\n",
    "df['lower'] = [x.lower() for x in df.tweet]\n",
    "dfval['lower'] = [x.lower() for x in dfval.tweet]"
   ]
  },
  {
   "cell_type": "code",
   "execution_count": 8,
   "metadata": {},
   "outputs": [],
   "source": [
    "#function to put flags for numbers in embedding\n",
    "import re\n",
    "def flagNum(x):\n",
    "    text = x.lower\n",
    "    outNum = str(x.target_num)\n",
    "    text_out = re.sub(r'(?<=\\D)'+outNum+'(?=\\D)', ' <num> ', text)\n",
    "    #text_out = text.replace('\\D('+outNum+')\\D', ' <num> ')\n",
    "    return text_out"
   ]
  },
  {
   "cell_type": "code",
   "execution_count": 9,
   "metadata": {},
   "outputs": [],
   "source": [
    "#Add flags to columns\n",
    "df['mod'] = df.apply(lambda x: flagNum(x), axis = 1)\n",
    "dfval['mod'] = dfval.apply(lambda x: flagNum(x), axis = 1)"
   ]
  },
  {
   "cell_type": "code",
   "execution_count": 10,
   "metadata": {},
   "outputs": [],
   "source": [
    "#function to clean punctuation and small words\n",
    "import string\n",
    "def textPuncandNum(text):\n",
    "    table = str.maketrans('', '', string.punctuation)\n",
    "    text = re.sub(r'[0-9]+', '', text)\n",
    "    text = text.split()\n",
    "    text = [word for word in text if len(word.translate(table))>2]\n",
    "    return ' '.join(text)\n"
   ]
  },
  {
   "cell_type": "code",
   "execution_count": 11,
   "metadata": {},
   "outputs": [],
   "source": [
    "#function to compute average of word embeddings\n",
    "\n",
    "def computeavg(tweet):\n",
    "    splits = tweet.split()\n",
    "    ysplit = model.wv[splits]\n",
    "    m = np.mean(ysplit, axis = 0)\n",
    "    return m\n"
   ]
  },
  {
   "cell_type": "code",
   "execution_count": 12,
   "metadata": {},
   "outputs": [
    {
     "data": {
      "text/html": [
       "<div>\n",
       "<style scoped>\n",
       "    .dataframe tbody tr th:only-of-type {\n",
       "        vertical-align: middle;\n",
       "    }\n",
       "\n",
       "    .dataframe tbody tr th {\n",
       "        vertical-align: top;\n",
       "    }\n",
       "\n",
       "    .dataframe thead th {\n",
       "        text-align: right;\n",
       "    }\n",
       "</style>\n",
       "<table border=\"1\" class=\"dataframe\">\n",
       "  <thead>\n",
       "    <tr style=\"text-align: right;\">\n",
       "      <th></th>\n",
       "      <th>id</th>\n",
       "      <th>idx</th>\n",
       "      <th>tweet</th>\n",
       "      <th>category</th>\n",
       "      <th>subcategory</th>\n",
       "      <th>target_num</th>\n",
       "      <th>cat_num</th>\n",
       "      <th>lower</th>\n",
       "      <th>mod</th>\n",
       "      <th>filt</th>\n",
       "      <th>avg</th>\n",
       "    </tr>\n",
       "  </thead>\n",
       "  <tbody>\n",
       "    <tr>\n",
       "      <th>0</th>\n",
       "      <td>103568095</td>\n",
       "      <td>1302</td>\n",
       "      <td>$THCX.V One of the better setups.{C&amp;amp;H} set...</td>\n",
       "      <td>Monetary</td>\n",
       "      <td>buy price</td>\n",
       "      <td>3.01</td>\n",
       "      <td>1</td>\n",
       "      <td>$thcx.v one of the better setups.{c&amp;amp;h} set...</td>\n",
       "      <td>$thcx.v one of the better setups.{c&amp;amp;h} set...</td>\n",
       "      <td>$thcx.v one the better setups.{c&amp;amp;h} setup ...</td>\n",
       "      <td>[0.20721708, 0.09418728, -0.41839322, -0.21092...</td>\n",
       "    </tr>\n",
       "    <tr>\n",
       "      <th>1</th>\n",
       "      <td>103568095</td>\n",
       "      <td>1302</td>\n",
       "      <td>$THCX.V One of the better setups.{C&amp;amp;H} set...</td>\n",
       "      <td>Monetary</td>\n",
       "      <td>stop loss</td>\n",
       "      <td>2.45</td>\n",
       "      <td>1</td>\n",
       "      <td>$thcx.v one of the better setups.{c&amp;amp;h} set...</td>\n",
       "      <td>$thcx.v one of the better setups.{c&amp;amp;h} set...</td>\n",
       "      <td>$thcx.v one the better setups.{c&amp;amp;h} setup ...</td>\n",
       "      <td>[0.20539609, 0.1008702, -0.42466328, -0.203908...</td>\n",
       "    </tr>\n",
       "    <tr>\n",
       "      <th>2</th>\n",
       "      <td>103745329</td>\n",
       "      <td>2416</td>\n",
       "      <td>$TQQQ welp, got stopped at 130.7. $soxl $smh f...</td>\n",
       "      <td>Monetary</td>\n",
       "      <td>stop loss</td>\n",
       "      <td>130.7</td>\n",
       "      <td>1</td>\n",
       "      <td>$tqqq welp, got stopped at 130.7. $soxl $smh f...</td>\n",
       "      <td>$tqqq welp, got stopped at  &lt;num&gt; . $soxl $smh...</td>\n",
       "      <td>$tqqq welp, got stopped &lt;num&gt; $soxl $smh finis...</td>\n",
       "      <td>[0.23352587, -1.0280132, -1.401173, -0.3327945...</td>\n",
       "    </tr>\n",
       "    <tr>\n",
       "      <th>3</th>\n",
       "      <td>103745329</td>\n",
       "      <td>2416</td>\n",
       "      <td>$TQQQ welp, got stopped at 130.7. $soxl $smh f...</td>\n",
       "      <td>Indicator</td>\n",
       "      <td>Indicator</td>\n",
       "      <td>20</td>\n",
       "      <td>0</td>\n",
       "      <td>$tqqq welp, got stopped at 130.7. $soxl $smh f...</td>\n",
       "      <td>$tqqq welp, got stopped at 130.7. $soxl $smh f...</td>\n",
       "      <td>$tqqq welp, got stopped $soxl $smh finishing w...</td>\n",
       "      <td>[0.23352587, -1.0280132, -1.401173, -0.3327944...</td>\n",
       "    </tr>\n",
       "    <tr>\n",
       "      <th>4</th>\n",
       "      <td>103745329</td>\n",
       "      <td>2416</td>\n",
       "      <td>$TQQQ welp, got stopped at 130.7. $soxl $smh f...</td>\n",
       "      <td>Temporal</td>\n",
       "      <td>date</td>\n",
       "      <td>3</td>\n",
       "      <td>6</td>\n",
       "      <td>$tqqq welp, got stopped at 130.7. $soxl $smh f...</td>\n",
       "      <td>$tqqq welp, got stopped at 130.7. $soxl $smh f...</td>\n",
       "      <td>$tqqq welp, got stopped $soxl $smh finishing w...</td>\n",
       "      <td>[0.23352587, -1.0280132, -1.401173, -0.3327944...</td>\n",
       "    </tr>\n",
       "  </tbody>\n",
       "</table>\n",
       "</div>"
      ],
      "text/plain": [
       "          id   idx                                              tweet  \\\n",
       "0  103568095  1302  $THCX.V One of the better setups.{C&amp;H} set...   \n",
       "1  103568095  1302  $THCX.V One of the better setups.{C&amp;H} set...   \n",
       "2  103745329  2416  $TQQQ welp, got stopped at 130.7. $soxl $smh f...   \n",
       "3  103745329  2416  $TQQQ welp, got stopped at 130.7. $soxl $smh f...   \n",
       "4  103745329  2416  $TQQQ welp, got stopped at 130.7. $soxl $smh f...   \n",
       "\n",
       "    category subcategory target_num  cat_num  \\\n",
       "0   Monetary   buy price       3.01        1   \n",
       "1   Monetary   stop loss       2.45        1   \n",
       "2   Monetary   stop loss      130.7        1   \n",
       "3  Indicator   Indicator         20        0   \n",
       "4   Temporal        date          3        6   \n",
       "\n",
       "                                               lower  \\\n",
       "0  $thcx.v one of the better setups.{c&amp;h} set...   \n",
       "1  $thcx.v one of the better setups.{c&amp;h} set...   \n",
       "2  $tqqq welp, got stopped at 130.7. $soxl $smh f...   \n",
       "3  $tqqq welp, got stopped at 130.7. $soxl $smh f...   \n",
       "4  $tqqq welp, got stopped at 130.7. $soxl $smh f...   \n",
       "\n",
       "                                                 mod  \\\n",
       "0  $thcx.v one of the better setups.{c&amp;h} set...   \n",
       "1  $thcx.v one of the better setups.{c&amp;h} set...   \n",
       "2  $tqqq welp, got stopped at  <num> . $soxl $smh...   \n",
       "3  $tqqq welp, got stopped at 130.7. $soxl $smh f...   \n",
       "4  $tqqq welp, got stopped at 130.7. $soxl $smh f...   \n",
       "\n",
       "                                                filt  \\\n",
       "0  $thcx.v one the better setups.{c&amp;h} setup ...   \n",
       "1  $thcx.v one the better setups.{c&amp;h} setup ...   \n",
       "2  $tqqq welp, got stopped <num> $soxl $smh finis...   \n",
       "3  $tqqq welp, got stopped $soxl $smh finishing w...   \n",
       "4  $tqqq welp, got stopped $soxl $smh finishing w...   \n",
       "\n",
       "                                                 avg  \n",
       "0  [0.20721708, 0.09418728, -0.41839322, -0.21092...  \n",
       "1  [0.20539609, 0.1008702, -0.42466328, -0.203908...  \n",
       "2  [0.23352587, -1.0280132, -1.401173, -0.3327945...  \n",
       "3  [0.23352587, -1.0280132, -1.401173, -0.3327944...  \n",
       "4  [0.23352587, -1.0280132, -1.401173, -0.3327944...  "
      ]
     },
     "execution_count": 12,
     "metadata": {},
     "output_type": "execute_result"
    }
   ],
   "source": [
    "#apply filter and average\n",
    "\n",
    "df['filt'] = df['mod'].apply(textPuncandNum)\n",
    "df['avg'] = df['filt'].apply(computeavg)\n",
    "dfval['filt'] = dfval['mod'].apply(textPuncandNum)\n",
    "dfval['avg'] = dfval['filt'].apply(computeavg)\n",
    "dfval.head()"
   ]
  },
  {
   "cell_type": "code",
   "execution_count": 13,
   "metadata": {},
   "outputs": [
    {
     "data": {
      "text/html": [
       "<div>\n",
       "<style scoped>\n",
       "    .dataframe tbody tr th:only-of-type {\n",
       "        vertical-align: middle;\n",
       "    }\n",
       "\n",
       "    .dataframe tbody tr th {\n",
       "        vertical-align: top;\n",
       "    }\n",
       "\n",
       "    .dataframe thead th {\n",
       "        text-align: right;\n",
       "    }\n",
       "</style>\n",
       "<table border=\"1\" class=\"dataframe\">\n",
       "  <thead>\n",
       "    <tr style=\"text-align: right;\">\n",
       "      <th></th>\n",
       "      <th>0</th>\n",
       "      <th>1</th>\n",
       "      <th>2</th>\n",
       "      <th>3</th>\n",
       "      <th>4</th>\n",
       "      <th>5</th>\n",
       "      <th>6</th>\n",
       "      <th>7</th>\n",
       "      <th>8</th>\n",
       "      <th>9</th>\n",
       "      <th>...</th>\n",
       "      <th>90</th>\n",
       "      <th>91</th>\n",
       "      <th>92</th>\n",
       "      <th>93</th>\n",
       "      <th>94</th>\n",
       "      <th>95</th>\n",
       "      <th>96</th>\n",
       "      <th>97</th>\n",
       "      <th>98</th>\n",
       "      <th>99</th>\n",
       "    </tr>\n",
       "  </thead>\n",
       "  <tbody>\n",
       "    <tr>\n",
       "      <th>0</th>\n",
       "      <td>0.207217</td>\n",
       "      <td>0.094187</td>\n",
       "      <td>-0.418393</td>\n",
       "      <td>-0.210922</td>\n",
       "      <td>-1.563378</td>\n",
       "      <td>-0.897995</td>\n",
       "      <td>2.240289</td>\n",
       "      <td>-0.265143</td>\n",
       "      <td>0.396256</td>\n",
       "      <td>-0.321941</td>\n",
       "      <td>...</td>\n",
       "      <td>0.145929</td>\n",
       "      <td>1.254953</td>\n",
       "      <td>0.947551</td>\n",
       "      <td>0.702230</td>\n",
       "      <td>-0.868596</td>\n",
       "      <td>-1.730349</td>\n",
       "      <td>-1.458312</td>\n",
       "      <td>1.008027</td>\n",
       "      <td>0.414126</td>\n",
       "      <td>-0.127519</td>\n",
       "    </tr>\n",
       "    <tr>\n",
       "      <th>1</th>\n",
       "      <td>0.205396</td>\n",
       "      <td>0.100870</td>\n",
       "      <td>-0.424663</td>\n",
       "      <td>-0.203908</td>\n",
       "      <td>-1.568591</td>\n",
       "      <td>-0.888313</td>\n",
       "      <td>2.243914</td>\n",
       "      <td>-0.271325</td>\n",
       "      <td>0.407276</td>\n",
       "      <td>-0.328399</td>\n",
       "      <td>...</td>\n",
       "      <td>0.154528</td>\n",
       "      <td>1.254947</td>\n",
       "      <td>0.957327</td>\n",
       "      <td>0.715269</td>\n",
       "      <td>-0.867153</td>\n",
       "      <td>-1.732876</td>\n",
       "      <td>-1.469105</td>\n",
       "      <td>1.015223</td>\n",
       "      <td>0.416374</td>\n",
       "      <td>-0.128606</td>\n",
       "    </tr>\n",
       "    <tr>\n",
       "      <th>2</th>\n",
       "      <td>0.233526</td>\n",
       "      <td>-1.028013</td>\n",
       "      <td>-1.401173</td>\n",
       "      <td>-0.332795</td>\n",
       "      <td>-0.978836</td>\n",
       "      <td>-1.445791</td>\n",
       "      <td>1.118072</td>\n",
       "      <td>-0.077661</td>\n",
       "      <td>-0.611202</td>\n",
       "      <td>-0.280414</td>\n",
       "      <td>...</td>\n",
       "      <td>0.198882</td>\n",
       "      <td>0.887056</td>\n",
       "      <td>0.506800</td>\n",
       "      <td>0.513897</td>\n",
       "      <td>-0.369124</td>\n",
       "      <td>-1.586927</td>\n",
       "      <td>-0.038395</td>\n",
       "      <td>-0.151955</td>\n",
       "      <td>0.024986</td>\n",
       "      <td>0.464140</td>\n",
       "    </tr>\n",
       "    <tr>\n",
       "      <th>3</th>\n",
       "      <td>0.233526</td>\n",
       "      <td>-1.028013</td>\n",
       "      <td>-1.401173</td>\n",
       "      <td>-0.332794</td>\n",
       "      <td>-0.978836</td>\n",
       "      <td>-1.445791</td>\n",
       "      <td>1.118072</td>\n",
       "      <td>-0.077661</td>\n",
       "      <td>-0.611202</td>\n",
       "      <td>-0.280414</td>\n",
       "      <td>...</td>\n",
       "      <td>0.198882</td>\n",
       "      <td>0.887056</td>\n",
       "      <td>0.506800</td>\n",
       "      <td>0.513897</td>\n",
       "      <td>-0.369124</td>\n",
       "      <td>-1.586928</td>\n",
       "      <td>-0.038395</td>\n",
       "      <td>-0.151955</td>\n",
       "      <td>0.024986</td>\n",
       "      <td>0.464140</td>\n",
       "    </tr>\n",
       "    <tr>\n",
       "      <th>4</th>\n",
       "      <td>0.233526</td>\n",
       "      <td>-1.028013</td>\n",
       "      <td>-1.401173</td>\n",
       "      <td>-0.332794</td>\n",
       "      <td>-0.978836</td>\n",
       "      <td>-1.445791</td>\n",
       "      <td>1.118072</td>\n",
       "      <td>-0.077661</td>\n",
       "      <td>-0.611202</td>\n",
       "      <td>-0.280414</td>\n",
       "      <td>...</td>\n",
       "      <td>0.198882</td>\n",
       "      <td>0.887056</td>\n",
       "      <td>0.506800</td>\n",
       "      <td>0.513897</td>\n",
       "      <td>-0.369124</td>\n",
       "      <td>-1.586927</td>\n",
       "      <td>-0.038395</td>\n",
       "      <td>-0.151955</td>\n",
       "      <td>0.024986</td>\n",
       "      <td>0.464140</td>\n",
       "    </tr>\n",
       "  </tbody>\n",
       "</table>\n",
       "<p>5 rows × 100 columns</p>\n",
       "</div>"
      ],
      "text/plain": [
       "         0         1         2         3         4         5         6   \\\n",
       "0  0.207217  0.094187 -0.418393 -0.210922 -1.563378 -0.897995  2.240289   \n",
       "1  0.205396  0.100870 -0.424663 -0.203908 -1.568591 -0.888313  2.243914   \n",
       "2  0.233526 -1.028013 -1.401173 -0.332795 -0.978836 -1.445791  1.118072   \n",
       "3  0.233526 -1.028013 -1.401173 -0.332794 -0.978836 -1.445791  1.118072   \n",
       "4  0.233526 -1.028013 -1.401173 -0.332794 -0.978836 -1.445791  1.118072   \n",
       "\n",
       "         7         8         9     ...           90        91        92  \\\n",
       "0 -0.265143  0.396256 -0.321941    ...     0.145929  1.254953  0.947551   \n",
       "1 -0.271325  0.407276 -0.328399    ...     0.154528  1.254947  0.957327   \n",
       "2 -0.077661 -0.611202 -0.280414    ...     0.198882  0.887056  0.506800   \n",
       "3 -0.077661 -0.611202 -0.280414    ...     0.198882  0.887056  0.506800   \n",
       "4 -0.077661 -0.611202 -0.280414    ...     0.198882  0.887056  0.506800   \n",
       "\n",
       "         93        94        95        96        97        98        99  \n",
       "0  0.702230 -0.868596 -1.730349 -1.458312  1.008027  0.414126 -0.127519  \n",
       "1  0.715269 -0.867153 -1.732876 -1.469105  1.015223  0.416374 -0.128606  \n",
       "2  0.513897 -0.369124 -1.586927 -0.038395 -0.151955  0.024986  0.464140  \n",
       "3  0.513897 -0.369124 -1.586928 -0.038395 -0.151955  0.024986  0.464140  \n",
       "4  0.513897 -0.369124 -1.586927 -0.038395 -0.151955  0.024986  0.464140  \n",
       "\n",
       "[5 rows x 100 columns]"
      ]
     },
     "execution_count": 13,
     "metadata": {},
     "output_type": "execute_result"
    }
   ],
   "source": [
    "#make each dimension a feature\n",
    "df3 = pd.DataFrame(df['avg'].values.tolist())\n",
    "df3val = pd.DataFrame(dfval['avg'].values.tolist())\n",
    "df3val.head()"
   ]
  },
  {
   "cell_type": "code",
   "execution_count": 14,
   "metadata": {},
   "outputs": [
    {
     "data": {
      "text/plain": [
       "0    Product Number\n",
       "1          Monetary\n",
       "2    Product Number\n",
       "3    Product Number\n",
       "4        Percentage\n",
       "Name: category, dtype: object"
      ]
     },
     "execution_count": 14,
     "metadata": {},
     "output_type": "execute_result"
    }
   ],
   "source": [
    "#gather y axis\n",
    "yfull = df['category']\n",
    "yfullval = dfval['category']\n",
    "yfull.head()"
   ]
  },
  {
   "cell_type": "code",
   "execution_count": 16,
   "metadata": {},
   "outputs": [],
   "source": [
    "#declare random forest model\n",
    "clf = RandomForestClassifier(n_estimators=100, max_depth=2, random_state=0)"
   ]
  },
  {
   "cell_type": "code",
   "execution_count": 17,
   "metadata": {},
   "outputs": [
    {
     "data": {
      "text/plain": [
       "RandomForestClassifier(bootstrap=True, class_weight=None, criterion='gini',\n",
       "            max_depth=2, max_features='auto', max_leaf_nodes=None,\n",
       "            min_impurity_decrease=0.0, min_impurity_split=None,\n",
       "            min_samples_leaf=1, min_samples_split=2,\n",
       "            min_weight_fraction_leaf=0.0, n_estimators=100, n_jobs=1,\n",
       "            oob_score=False, random_state=0, verbose=0, warm_start=False)"
      ]
     },
     "execution_count": 17,
     "metadata": {},
     "output_type": "execute_result"
    }
   ],
   "source": [
    "#fit random forest on train set\n",
    "clf.fit(df3, yfull)"
   ]
  },
  {
   "cell_type": "code",
   "execution_count": 18,
   "metadata": {},
   "outputs": [],
   "source": [
    "#make preds on test set\n",
    "preds = clf.predict(df3val)"
   ]
  },
  {
   "cell_type": "code",
   "execution_count": 19,
   "metadata": {},
   "outputs": [
    {
     "data": {
      "text/html": [
       "<div>\n",
       "<style scoped>\n",
       "    .dataframe tbody tr th:only-of-type {\n",
       "        vertical-align: middle;\n",
       "    }\n",
       "\n",
       "    .dataframe tbody tr th {\n",
       "        vertical-align: top;\n",
       "    }\n",
       "\n",
       "    .dataframe thead th {\n",
       "        text-align: right;\n",
       "    }\n",
       "</style>\n",
       "<table border=\"1\" class=\"dataframe\">\n",
       "  <thead>\n",
       "    <tr style=\"text-align: right;\">\n",
       "      <th></th>\n",
       "      <th>0</th>\n",
       "    </tr>\n",
       "  </thead>\n",
       "  <tbody>\n",
       "    <tr>\n",
       "      <th>0</th>\n",
       "      <td>Monetary</td>\n",
       "    </tr>\n",
       "    <tr>\n",
       "      <th>1</th>\n",
       "      <td>Monetary</td>\n",
       "    </tr>\n",
       "    <tr>\n",
       "      <th>2</th>\n",
       "      <td>Monetary</td>\n",
       "    </tr>\n",
       "    <tr>\n",
       "      <th>3</th>\n",
       "      <td>Monetary</td>\n",
       "    </tr>\n",
       "    <tr>\n",
       "      <th>4</th>\n",
       "      <td>Monetary</td>\n",
       "    </tr>\n",
       "  </tbody>\n",
       "</table>\n",
       "</div>"
      ],
      "text/plain": [
       "          0\n",
       "0  Monetary\n",
       "1  Monetary\n",
       "2  Monetary\n",
       "3  Monetary\n",
       "4  Monetary"
      ]
     },
     "execution_count": 19,
     "metadata": {},
     "output_type": "execute_result"
    }
   ],
   "source": [
    "#to DF\n",
    "predsdf = pd.DataFrame(preds)\n",
    "predsdf.head()"
   ]
  },
  {
   "cell_type": "code",
   "execution_count": 20,
   "metadata": {},
   "outputs": [
    {
     "data": {
      "text/plain": [
       "0.4206989247311828"
      ]
     },
     "execution_count": 20,
     "metadata": {},
     "output_type": "execute_result"
    }
   ],
   "source": [
    "#compute accuracy\n",
    "accuracy_score(yfullval, preds)"
   ]
  },
  {
   "cell_type": "code",
   "execution_count": 22,
   "metadata": {},
   "outputs": [
    {
     "data": {
      "text/plain": [
       "Monetary    537\n",
       "Temporal    207\n",
       "Name: 0, dtype: int64"
      ]
     },
     "execution_count": 22,
     "metadata": {},
     "output_type": "execute_result"
    }
   ],
   "source": [
    "#look at value counts\n",
    "predsdf[0].value_counts()"
   ]
  },
  {
   "cell_type": "code",
   "execution_count": null,
   "metadata": {},
   "outputs": [],
   "source": []
  }
 ],
 "metadata": {
  "kernelspec": {
   "display_name": "Python 3",
   "language": "python",
   "name": "python3"
  },
  "language_info": {
   "codemirror_mode": {
    "name": "ipython",
    "version": 3
   },
   "file_extension": ".py",
   "mimetype": "text/x-python",
   "name": "python",
   "nbconvert_exporter": "python",
   "pygments_lexer": "ipython3",
   "version": "3.6.5"
  }
 },
 "nbformat": 4,
 "nbformat_minor": 2
}
