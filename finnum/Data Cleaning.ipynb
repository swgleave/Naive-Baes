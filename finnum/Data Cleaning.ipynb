{
 "cells": [
  {
   "cell_type": "code",
   "execution_count": 1,
   "metadata": {},
   "outputs": [],
   "source": [
    "import pandas as pd"
   ]
  },
  {
   "cell_type": "code",
   "execution_count": 2,
   "metadata": {},
   "outputs": [],
   "source": [
    "df = pd.read_json('FinNum_training_rebuilded.json')"
   ]
  },
  {
   "cell_type": "code",
   "execution_count": 3,
   "metadata": {},
   "outputs": [
    {
     "data": {
      "text/html": [
       "<div>\n",
       "<style scoped>\n",
       "    .dataframe tbody tr th:only-of-type {\n",
       "        vertical-align: middle;\n",
       "    }\n",
       "\n",
       "    .dataframe tbody tr th {\n",
       "        vertical-align: top;\n",
       "    }\n",
       "\n",
       "    .dataframe thead th {\n",
       "        text-align: right;\n",
       "    }\n",
       "</style>\n",
       "<table border=\"1\" class=\"dataframe\">\n",
       "  <thead>\n",
       "    <tr style=\"text-align: right;\">\n",
       "      <th></th>\n",
       "      <th>category</th>\n",
       "      <th>id</th>\n",
       "      <th>idx</th>\n",
       "      <th>subcategory</th>\n",
       "      <th>target_num</th>\n",
       "      <th>tweet</th>\n",
       "    </tr>\n",
       "  </thead>\n",
       "  <tbody>\n",
       "    <tr>\n",
       "      <th>0</th>\n",
       "      <td>[Product Number]</td>\n",
       "      <td>98221616</td>\n",
       "      <td>4976</td>\n",
       "      <td>[Product Number]</td>\n",
       "      <td>[334]</td>\n",
       "      <td>$ARNA APD334 for Amyotrophic Lateral Sclerosis...</td>\n",
       "    </tr>\n",
       "    <tr>\n",
       "      <th>1</th>\n",
       "      <td>[Monetary]</td>\n",
       "      <td>82321187</td>\n",
       "      <td>9839</td>\n",
       "      <td>[stop loss]</td>\n",
       "      <td>[7.38]</td>\n",
       "      <td>$OCLR Noob investor that i am, put a 7.38 stop...</td>\n",
       "    </tr>\n",
       "    <tr>\n",
       "      <th>2</th>\n",
       "      <td>[Product Number]</td>\n",
       "      <td>103328840</td>\n",
       "      <td>1455</td>\n",
       "      <td>[Product Number]</td>\n",
       "      <td>[1]</td>\n",
       "      <td>$ES_F $SPY Bias-2 bearish and the DLT-1 DRR ar...</td>\n",
       "    </tr>\n",
       "    <tr>\n",
       "      <th>3</th>\n",
       "      <td>[Product Number]</td>\n",
       "      <td>104840294</td>\n",
       "      <td>1111</td>\n",
       "      <td>[Product Number]</td>\n",
       "      <td>[5]</td>\n",
       "      <td>$TMUS its acquisition of Layer3 TV The purchas...</td>\n",
       "    </tr>\n",
       "    <tr>\n",
       "      <th>4</th>\n",
       "      <td>[Percentage, Quantity, Monetary]</td>\n",
       "      <td>69935467</td>\n",
       "      <td>2373</td>\n",
       "      <td>[relative, Quantity, forecast]</td>\n",
       "      <td>[14, 4, 5]</td>\n",
       "      <td>$TWTR ^Buy  $WSTL 68c up 14%  4 time avg vol. ...</td>\n",
       "    </tr>\n",
       "  </tbody>\n",
       "</table>\n",
       "</div>"
      ],
      "text/plain": [
       "                           category         id   idx  \\\n",
       "0                  [Product Number]   98221616  4976   \n",
       "1                        [Monetary]   82321187  9839   \n",
       "2                  [Product Number]  103328840  1455   \n",
       "3                  [Product Number]  104840294  1111   \n",
       "4  [Percentage, Quantity, Monetary]   69935467  2373   \n",
       "\n",
       "                      subcategory  target_num  \\\n",
       "0                [Product Number]       [334]   \n",
       "1                     [stop loss]      [7.38]   \n",
       "2                [Product Number]         [1]   \n",
       "3                [Product Number]         [5]   \n",
       "4  [relative, Quantity, forecast]  [14, 4, 5]   \n",
       "\n",
       "                                               tweet  \n",
       "0  $ARNA APD334 for Amyotrophic Lateral Sclerosis...  \n",
       "1  $OCLR Noob investor that i am, put a 7.38 stop...  \n",
       "2  $ES_F $SPY Bias-2 bearish and the DLT-1 DRR ar...  \n",
       "3  $TMUS its acquisition of Layer3 TV The purchas...  \n",
       "4  $TWTR ^Buy  $WSTL 68c up 14%  4 time avg vol. ...  "
      ]
     },
     "execution_count": 3,
     "metadata": {},
     "output_type": "execute_result"
    }
   ],
   "source": [
    "df.head()"
   ]
  },
  {
   "cell_type": "code",
   "execution_count": null,
   "metadata": {},
   "outputs": [],
   "source": []
  }
 ],
 "metadata": {
  "kernelspec": {
   "display_name": "Python 3",
   "language": "python",
   "name": "python3"
  },
  "language_info": {
   "codemirror_mode": {
    "name": "ipython",
    "version": 3
   },
   "file_extension": ".py",
   "mimetype": "text/x-python",
   "name": "python",
   "nbconvert_exporter": "python",
   "pygments_lexer": "ipython3",
   "version": "3.6.5"
  }
 },
 "nbformat": 4,
 "nbformat_minor": 2
}
